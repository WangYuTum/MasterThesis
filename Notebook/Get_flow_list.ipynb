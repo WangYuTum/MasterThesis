{
 "cells": [
  {
   "cell_type": "code",
   "execution_count": null,
   "metadata": {},
   "outputs": [],
   "source": [
    "import os\n",
    "import glob"
   ]
  },
  {
   "cell_type": "code",
   "execution_count": 10,
   "metadata": {},
   "outputs": [],
   "source": [
    "img_root = '/usr/stud/wangyu/DAVIS17_train_val/JPEGImages/480p'\n",
    "flow_list = open('flow_list.txt', 'w')\n",
    "name_list = os.listdir(img_root)\n",
    "for name in name_list:\n",
    "    img_search = os.path.join(img_root, name, '*.jpg')\n",
    "    imgs = glob.glob(img_search)\n",
    "    imgs.sort()\n",
    "    num_imgs = len(imgs)\n",
    "    for idx in range(num_imgs-1):\n",
    "        img_x = imgs[idx]\n",
    "        img_y = imgs[idx+1]\n",
    "        flo_z = imgs[idx].replace('JPEGImages', 'Flow')\n",
    "        flo_z = flo_z.replace('jpg', 'flo')\n",
    "        flow_list.write(img_x + ' ' + img_y + ' ' + flo_z + '\\n')\n",
    "flow_list.close()"
   ]
  },
  {
   "cell_type": "code",
   "execution_count": null,
   "metadata": {},
   "outputs": [],
   "source": []
  }
 ],
 "metadata": {
  "kernelspec": {
   "display_name": "Python 2",
   "language": "python",
   "name": "python2"
  },
  "language_info": {
   "codemirror_mode": {
    "name": "ipython",
    "version": 2
   },
   "file_extension": ".py",
   "mimetype": "text/x-python",
   "name": "python",
   "nbconvert_exporter": "python",
   "pygments_lexer": "ipython2",
   "version": "2.7.12"
  }
 },
 "nbformat": 4,
 "nbformat_minor": 2
}
