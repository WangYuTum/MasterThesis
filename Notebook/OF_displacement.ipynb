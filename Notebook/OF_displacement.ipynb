{
 "cells": [
  {
   "cell_type": "code",
   "execution_count": 4,
   "metadata": {},
   "outputs": [],
   "source": [
    "import os\n",
    "import numpy as np\n",
    "from PIL import Image\n",
    "TAG_FLOAT = 202021.25"
   ]
  },
  {
   "cell_type": "code",
   "execution_count": 9,
   "metadata": {},
   "outputs": [],
   "source": [
    "def read_flow(file):\n",
    "\n",
    "    assert type(file) is str, \"file is not str %r\" % str(file)\n",
    "    assert os.path.isfile(file) is True, \"file does not exist %r\" % str(file)\n",
    "    assert file[-4:] == '.flo', \"file ending is not .flo %r\" % file[-4:]\n",
    "    f = open(file,'rb')\n",
    "    flo_number = np.fromfile(f, np.float32, count=1)[0]\n",
    "    assert flo_number == TAG_FLOAT, 'Flow number %r incorrect. Invalid .flo file' % flo_number\n",
    "    w = np.fromfile(f, np.int32, count=1)\n",
    "    h = np.fromfile(f, np.int32, count=1)\n",
    "    #if error try: data = np.fromfile(f, np.float32, count=2*w[0]*h[0])\n",
    "    data = np.fromfile(f, np.float32, count=2*w*h)\n",
    "    # Reshape data into 3D array (columns, rows, bands)\n",
    "    flow = np.resize(data, (int(h), int(w), 2))\n",
    "    f.close()\n",
    "\n",
    "    return flow\n",
    "\n",
    "def transf_slow(feat_arr, flow_arr):\n",
    "    feat_shape = feat_arr.shape\n",
    "    flow_shape = flow_arr.shape\n",
    "    assert feat_shape[0] == flow_shape[0], \"Feat_map/Flow shape does not match!\"\n",
    "    assert feat_shape[1] == flow_shape[1], \"Feat_map/Flow shape does not match!\"\n",
    "    h = feat_shape[0]\n",
    "    w = feat_shape[1]\n",
    "    new_feat = np.zeros((h, w, 3), np.uint8)\n",
    "    for idx_h in range(h):\n",
    "        for idx_w in range(w):\n",
    "            motion_h = int(round(flow_arr[idx_h][idx_w][1]))\n",
    "            motion_w = int(round(flow_arr[idx_h][idx_w][0]))\n",
    "            new_h = idx_h + motion_h\n",
    "            new_w = idx_w + motion_w\n",
    "            if new_h < h and new_h >= 0 and new_w < w and new_w >= 0:\n",
    "                    new_feat[new_h][new_w] = feat_arr[idx_h][idx_w]\n",
    "\n",
    "    return new_feat\n"
   ]
  },
  {
   "cell_type": "code",
   "execution_count": 11,
   "metadata": {},
   "outputs": [],
   "source": [
    "flo_file = \"../../../DAVIS17_train_val/Flow/480p/breakdance/00000.flo\"\n",
    "img0 = \"../../../DAVIS17_train_val/JPEGImages/480p/breakdance/00000.jpg\"\n",
    "\n",
    "flow_arr = read_flow(flo_file)\n",
    "img_arr = np.array(Image.open(img0)).astype(np.uint8)\n",
    "trans_arr = transf_slow(img_arr, flow_arr)\n",
    "trans_img = Image.fromarray(trans_arr, mode='RGB')\n",
    "trans_img.save('trans_img.jpg')"
   ]
  },
  {
   "cell_type": "code",
   "execution_count": null,
   "metadata": {},
   "outputs": [],
   "source": []
  }
 ],
 "metadata": {
  "kernelspec": {
   "display_name": "Python 2",
   "language": "python",
   "name": "python2"
  },
  "language_info": {
   "codemirror_mode": {
    "name": "ipython",
    "version": 2
   },
   "file_extension": ".py",
   "mimetype": "text/x-python",
   "name": "python",
   "nbconvert_exporter": "python",
   "pygments_lexer": "ipython2",
   "version": "2.7.12"
  }
 },
 "nbformat": 4,
 "nbformat_minor": 2
}
