{
 "cells": [
  {
   "cell_type": "code",
   "execution_count": null,
   "metadata": {},
   "outputs": [],
   "source": [
    "import tensorflow as tf\n",
    "import numpy as np\n"
   ]
  },
  {
   "cell_type": "code",
   "execution_count": null,
   "metadata": {},
   "outputs": [],
   "source": [
    "def int64_feature(value):\n",
    "    return tf.train.Feature(int64_list=tf.train.Int64List(value=value))\n",
    "\n",
    "def write_single_record(record_writer, data):\n",
    "    example = tf.train.Example(features=tf.train.Features(feature={'my_var': int64_feature(data.flatten())}))\n",
    "    record_writer.write(example.SerializeToString())\n",
    "    \n",
    "data1= np.array([1,2], np.int16)\n",
    "data2 = np.array([1,2,3,4], np.int16)\n",
    "compression_opt = tf.python_io.TFRecordOptions(tf.python_io.TFRecordCompressionType.GZIP)\n",
    "my_writer = tf.python_io.TFRecordWriter('./test_1.tfrecord', options=compression_opt)\n",
    "print('Start writing...')\n",
    "write_single_record(my_writer, data1)\n",
    "write_single_record(my_writer, data2)\n",
    "print('Writing completed.')\n",
    "my_writer.flush()\n",
    "my_writer.close()\n",
    "print('Closed file.')\n",
    "    \n"
   ]
  },
  {
   "cell_type": "code",
   "execution_count": null,
   "metadata": {},
   "outputs": [],
   "source": [
    "def parse_single_example(record):\n",
    "    record_features = {\n",
    "        \"my_var\": tf.VarLenFeature(tf.int64,),\n",
    "    }\n",
    "    out_data = tf.parse_single_example(serialized=record, features=record_features)\n",
    "    var_data = tf.cast(out_data['my_var'], tf.int16)\n",
    "    \n",
    "    return var_data\n",
    "\n",
    "dataset = tf.contrib.data.TFRecordDataset('test_1.tfrecord', \"GZIP\")\n",
    "dataset = dataset.map(parse_single_example, num_threads=1, output_buffer_size=1)\n",
    "dataset = dataset.batch(1)\n",
    "batch_iterator = dataset.make_one_shot_iterator()\n",
    "next_batch = batch_iterator.get_next()\n",
    "\n",
    "with tf.Session() as sess:\n",
    "    for _ in range(2):\n",
    "        print(sess.run(next_batch))"
   ]
  },
  {
   "cell_type": "code",
   "execution_count": 6,
   "metadata": {},
   "outputs": [
    {
     "name": "stdout",
     "output_type": "stream",
     "text": [
      "(array([[1, 2],\n",
      "       [3, 4],\n",
      "       [5, 6]], dtype=int8), (3, 2))\n",
      "(array([[1, 2, 3],\n",
      "       [4, 9, 4]], dtype=int8), (2, 3))\n"
     ]
    }
   ],
   "source": [
    "xx = np.array([[1,2], [3,4], [5,6]], np.int8)\n",
    "yy = np.array([[1,2,3], [4,9,4]], np.int8)\n",
    "print(xx, xx.shape)\n",
    "print(yy, yy.shape)"
   ]
  },
  {
   "cell_type": "code",
   "execution_count": 7,
   "metadata": {},
   "outputs": [
    {
     "data": {
      "text/plain": [
       "array([1, 2, 3, 4, 5, 6], dtype=int8)"
      ]
     },
     "execution_count": 7,
     "metadata": {},
     "output_type": "execute_result"
    }
   ],
   "source": [
    "xx.flatten()"
   ]
  },
  {
   "cell_type": "code",
   "execution_count": 13,
   "metadata": {},
   "outputs": [
    {
     "data": {
      "text/plain": [
       "array([1, 2, 3, 4, 9, 4], dtype=int8)"
      ]
     },
     "execution_count": 13,
     "metadata": {},
     "output_type": "execute_result"
    }
   ],
   "source": [
    "yy.flatten()"
   ]
  },
  {
   "cell_type": "code",
   "execution_count": 15,
   "metadata": {},
   "outputs": [
    {
     "data": {
      "text/plain": [
       "array([0, 0, 0, 0, 0], dtype=int8)"
      ]
     },
     "execution_count": 15,
     "metadata": {},
     "output_type": "execute_result"
    }
   ],
   "source": [
    "np.zeros(5, np.int8)"
   ]
  },
  {
   "cell_type": "code",
   "execution_count": 17,
   "metadata": {},
   "outputs": [
    {
     "data": {
      "text/plain": [
       "array([1, 2, 3, 4, 9, 4, 0, 0, 0, 0, 0], dtype=int8)"
      ]
     },
     "execution_count": 17,
     "metadata": {},
     "output_type": "execute_result"
    }
   ],
   "source": [
    "np.concatenate((yy.flatten(), np.zeros(5, np.int8)))"
   ]
  },
  {
   "cell_type": "code",
   "execution_count": null,
   "metadata": {},
   "outputs": [],
   "source": []
  }
 ],
 "metadata": {
  "kernelspec": {
   "display_name": "Python 2",
   "language": "python",
   "name": "python2"
  },
  "language_info": {
   "codemirror_mode": {
    "name": "ipython",
    "version": 2
   },
   "file_extension": ".py",
   "mimetype": "text/x-python",
   "name": "python",
   "nbconvert_exporter": "python",
   "pygments_lexer": "ipython2",
   "version": "2.7.12"
  }
 },
 "nbformat": 4,
 "nbformat_minor": 1
}
