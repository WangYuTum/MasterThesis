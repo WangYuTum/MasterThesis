{
 "cells": [
  {
   "cell_type": "code",
   "execution_count": 47,
   "metadata": {},
   "outputs": [],
   "source": [
    "from PIL import Image\n",
    "from PIL import ImageFilter\n",
    "import numpy as np\n",
    "from scipy.sparse import csr_matrix\n",
    "from scipy.ndimage.morphology import binary_dilation\n",
    "from scipy.ndimage import generate_binary_structure\n",
    "mask_file = 'flow_warped_att00001.png'"
   ]
  },
  {
   "cell_type": "code",
   "execution_count": 48,
   "metadata": {},
   "outputs": [],
   "source": [
    "def get_rand_att_from_edge(edge_obj, num_edge_points_max):\n",
    "    edge_arr = np.array(edge_obj, np.uint8)\n",
    "    true_indices = np.nonzero(edge_arr)\n",
    "    num_true = true_indices[0].shape[0]\n",
    "    num_rand_shape = np.random.randint(0,num_edge_points_max+1)\n",
    "    rand_indices = np.random.choice(num_true, num_rand_shape)\n",
    "    if rand_indices.size != 0:\n",
    "        data = np.ones(rand_indices.size, np.uint8)\n",
    "        row_ind = []\n",
    "        col_ind = []\n",
    "        for idx in rand_indices:\n",
    "            row_ind.append(true_indices[0][idx])\n",
    "            col_ind.append(true_indices[1][idx])\n",
    "        sparse_mat = csr_matrix((data, (row_ind, col_ind)), shape=edge_arr.shape)\n",
    "        sparse_arr = sparse_mat.toarray().astype(np.uint8)\n",
    "        struct1 = generate_binary_structure(2, 2)\n",
    "        size_att = np.random.randint(9, 36)\n",
    "        rand_shape_arr = binary_dilation(sparse_arr, structure=struct1, iterations=size_att).astype(sparse_arr.dtype)\n",
    "    else:\n",
    "        rand_shape_arr = np.zeros(edge_arr.shape, np.uint8)\n",
    "        print('No false or rand att.')\n",
    "    return rand_shape_arr"
   ]
  },
  {
   "cell_type": "code",
   "execution_count": 49,
   "metadata": {},
   "outputs": [],
   "source": [
    "# Compute random shape\n",
    "mask_arr = np.array(Image.open(mask_file), np.uint8)\n",
    "mask_obj = Image.fromarray(mask_arr, mode='L')\n",
    "edge_obj = mask_obj.filter(ImageFilter.FIND_EDGES)\n",
    "rand_shape_arr = get_rand_att_from_edge(edge_obj, 5)\n",
    "\n",
    "# Compute close by random false attention\n",
    "struct1 = generate_binary_structure(2, 2)\n",
    "large_dilate = binary_dilation(mask_arr, structure=struct1, iterations=40).astype(mask_arr.dtype)\n",
    "large_dilate_obj = Image.fromarray(large_dilate)\n",
    "large_edge_obj = large_dilate_obj.filter(ImageFilter.FIND_EDGES)\n",
    "false_att_arr = get_rand_att_from_edge(large_edge_obj, 3)\n",
    "\n",
    "att_rand = mask_arr + false_att_arr + rand_shape_arr\n",
    "att_rand_obj = Image.fromarray(att_rand, mode='P')\n",
    "att_rand_obj.putpalette(np.array([0,0,0,150,0,0]))\n",
    "att_rand_obj.save('att_rand.png')"
   ]
  },
  {
   "cell_type": "code",
   "execution_count": null,
   "metadata": {},
   "outputs": [],
   "source": []
  }
 ],
 "metadata": {
  "kernelspec": {
   "display_name": "Python 2",
   "language": "python",
   "name": "python2"
  },
  "language_info": {
   "codemirror_mode": {
    "name": "ipython",
    "version": 2
   },
   "file_extension": ".py",
   "mimetype": "text/x-python",
   "name": "python",
   "nbconvert_exporter": "python",
   "pygments_lexer": "ipython2",
   "version": "2.7.12"
  }
 },
 "nbformat": 4,
 "nbformat_minor": 2
}
